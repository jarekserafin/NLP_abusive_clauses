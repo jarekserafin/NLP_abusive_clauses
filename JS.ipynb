{
 "cells": [
  {
   "metadata": {},
   "cell_type": "markdown",
   "source": [
    "### 1. Introduction and first glance at the data\n",
    "In the case of 'Unfair clauses' the data is retrieved using the 'datasets' library."
   ],
   "id": "ca0ec7ea55b680a1"
  },
  {
   "metadata": {
    "ExecuteTime": {
     "end_time": "2025-01-21T20:22:56.928713Z",
     "start_time": "2025-01-21T20:22:56.396555Z"
    }
   },
   "cell_type": "code",
   "source": [
    "# Required imports\n",
    "\n",
    "import matplotlib.pyplot as plt\n",
    "import pandas as pd\n",
    "import numpy as np\n",
    "\n",
    "# Data visualisation\n",
    "import seaborn as sns\n",
    "\n",
    "# Data processing\n",
    "from datasets import load_dataset\n",
    "\n",
    "# Vectorizers\n",
    "from sklearn.feature_extraction.text import CountVectorizer\n",
    "from sklearn.feature_extraction.text import TfidfVectorizer\n",
    "\n",
    "# Machine learning\n",
    "from sklearn.linear_model import LogisticRegression\n",
    "from sklearn.metrics import confusion_matrix\n",
    "from sklearn.naive_bayes import MultinomialNB\n",
    "from sklearn.svm import SVC\n",
    "from sklearn.neighbors import KNeighborsClassifier"
   ],
   "id": "d5643ef6720b1f47",
   "outputs": [],
   "execution_count": 1
  },
  {
   "metadata": {
    "ExecuteTime": {
     "end_time": "2025-01-21T20:22:59.587093Z",
     "start_time": "2025-01-21T20:22:56.929667Z"
    }
   },
   "cell_type": "code",
   "source": [
    "# Retrieving data using load_dataset function\n",
    "data = load_dataset(\"laugustyniak/abusive-clauses-pl\")\n",
    "print(data)"
   ],
   "id": "a38ae07c65893fa4",
   "outputs": [
    {
     "name": "stdout",
     "output_type": "stream",
     "text": [
      "DatasetDict({\n",
      "    train: Dataset({\n",
      "        features: ['text', 'label'],\n",
      "        num_rows: 4284\n",
      "    })\n",
      "    test: Dataset({\n",
      "        features: ['text', 'label'],\n",
      "        num_rows: 3453\n",
      "    })\n",
      "    validation: Dataset({\n",
      "        features: ['text', 'label'],\n",
      "        num_rows: 1519\n",
      "    })\n",
      "})\n"
     ]
    }
   ],
   "execution_count": 2
  },
  {
   "metadata": {},
   "cell_type": "markdown",
   "source": "The data is divided into sets: train, test and validation.",
   "id": "d5eb3a2a0d19fe20"
  },
  {
   "metadata": {
    "ExecuteTime": {
     "end_time": "2025-01-21T20:22:59.606235Z",
     "start_time": "2025-01-21T20:22:59.588872Z"
    }
   },
   "cell_type": "code",
   "source": [
    "# Transforming data to Pandas dataFrames\n",
    "df_train = data['train'].to_pandas()\n",
    "df_test = data['test'].to_pandas()\n",
    "df_validation = data['validation'].to_pandas()"
   ],
   "id": "d6136c0738de95b8",
   "outputs": [],
   "execution_count": 3
  },
  {
   "metadata": {
    "ExecuteTime": {
     "end_time": "2025-01-21T20:22:59.614343Z",
     "start_time": "2025-01-21T20:22:59.606889Z"
    }
   },
   "cell_type": "code",
   "source": "df_train.head(10)",
   "id": "3970c4065a2039c9",
   "outputs": [
    {
     "data": {
      "text/plain": [
       "                                                text  label\n",
       "0  Wszelka korespondencja wysyłana przez Pożyczko...      0\n",
       "1  W przypadku opóźnień Pożyczkobiorcy w spłacie ...      0\n",
       "2  W przypadku opóźnień Pożyczkobiorcy w spłacie ...      0\n",
       "3  Pożyczkobiorca zleca firmie Narodowy Fundusz P...      0\n",
       "4  Od niespłaconej w terminie raty Pożyczkobiorca...      0\n",
       "5  Pożyczkobiorca ma prawo wybrać inny sposób prz...      0\n",
       "6  W przypadku braku spłaty pożyczki w terminie P...      0\n",
       "7  Zabezpieczeniem spłaty pożyczki będzie podpisa...      0\n",
       "8  Termin zwrotu pożyczki strony ustalają na 01 w...      0\n",
       "9  Okres trwania pożyczki wynosi 1 miesiąc, przy ...      0"
      ],
      "text/html": [
       "<div>\n",
       "<style scoped>\n",
       "    .dataframe tbody tr th:only-of-type {\n",
       "        vertical-align: middle;\n",
       "    }\n",
       "\n",
       "    .dataframe tbody tr th {\n",
       "        vertical-align: top;\n",
       "    }\n",
       "\n",
       "    .dataframe thead th {\n",
       "        text-align: right;\n",
       "    }\n",
       "</style>\n",
       "<table border=\"1\" class=\"dataframe\">\n",
       "  <thead>\n",
       "    <tr style=\"text-align: right;\">\n",
       "      <th></th>\n",
       "      <th>text</th>\n",
       "      <th>label</th>\n",
       "    </tr>\n",
       "  </thead>\n",
       "  <tbody>\n",
       "    <tr>\n",
       "      <th>0</th>\n",
       "      <td>Wszelka korespondencja wysyłana przez Pożyczko...</td>\n",
       "      <td>0</td>\n",
       "    </tr>\n",
       "    <tr>\n",
       "      <th>1</th>\n",
       "      <td>W przypadku opóźnień Pożyczkobiorcy w spłacie ...</td>\n",
       "      <td>0</td>\n",
       "    </tr>\n",
       "    <tr>\n",
       "      <th>2</th>\n",
       "      <td>W przypadku opóźnień Pożyczkobiorcy w spłacie ...</td>\n",
       "      <td>0</td>\n",
       "    </tr>\n",
       "    <tr>\n",
       "      <th>3</th>\n",
       "      <td>Pożyczkobiorca zleca firmie Narodowy Fundusz P...</td>\n",
       "      <td>0</td>\n",
       "    </tr>\n",
       "    <tr>\n",
       "      <th>4</th>\n",
       "      <td>Od niespłaconej w terminie raty Pożyczkobiorca...</td>\n",
       "      <td>0</td>\n",
       "    </tr>\n",
       "    <tr>\n",
       "      <th>5</th>\n",
       "      <td>Pożyczkobiorca ma prawo wybrać inny sposób prz...</td>\n",
       "      <td>0</td>\n",
       "    </tr>\n",
       "    <tr>\n",
       "      <th>6</th>\n",
       "      <td>W przypadku braku spłaty pożyczki w terminie P...</td>\n",
       "      <td>0</td>\n",
       "    </tr>\n",
       "    <tr>\n",
       "      <th>7</th>\n",
       "      <td>Zabezpieczeniem spłaty pożyczki będzie podpisa...</td>\n",
       "      <td>0</td>\n",
       "    </tr>\n",
       "    <tr>\n",
       "      <th>8</th>\n",
       "      <td>Termin zwrotu pożyczki strony ustalają na 01 w...</td>\n",
       "      <td>0</td>\n",
       "    </tr>\n",
       "    <tr>\n",
       "      <th>9</th>\n",
       "      <td>Okres trwania pożyczki wynosi 1 miesiąc, przy ...</td>\n",
       "      <td>0</td>\n",
       "    </tr>\n",
       "  </tbody>\n",
       "</table>\n",
       "</div>"
      ]
     },
     "execution_count": 4,
     "metadata": {},
     "output_type": "execute_result"
    }
   ],
   "execution_count": 4
  },
  {
   "metadata": {
    "ExecuteTime": {
     "end_time": "2025-01-21T20:22:59.616796Z",
     "start_time": "2025-01-21T20:22:59.615071Z"
    }
   },
   "cell_type": "code",
   "source": "print(df_train['text'][9])",
   "id": "9ca7f3718469dcd3",
   "outputs": [
    {
     "name": "stdout",
     "output_type": "stream",
     "text": [
      "Okres trwania pożyczki wynosi 1 miesiąc, przy czym może zostać przedłużana co miesiąc do 24 miesięcy\n"
     ]
    }
   ],
   "execution_count": 5
  },
  {
   "metadata": {},
   "cell_type": "markdown",
   "source": "In the 'text' column there is text of agreement. In the 'label' (output) column there are two possible values: 0 in the case of abusive clause\\, and 1 in the case of correct agreement statement",
   "id": "3fe30f929a7cb38a"
  },
  {
   "metadata": {
    "ExecuteTime": {
     "end_time": "2025-01-21T20:22:59.619895Z",
     "start_time": "2025-01-21T20:22:59.617288Z"
    }
   },
   "cell_type": "code",
   "source": [
    "# Checking if there are any null values in the 'text' column of the train, test, or validation\n",
    "print(df_train['text'].isnull().any() or df_test['text'].isnull().any() or df_validation['text'].isnull().any())"
   ],
   "id": "844ea42f0b85e03e",
   "outputs": [
    {
     "name": "stdout",
     "output_type": "stream",
     "text": [
      "False\n"
     ]
    }
   ],
   "execution_count": 6
  },
  {
   "metadata": {
    "ExecuteTime": {
     "end_time": "2025-01-21T20:22:59.625940Z",
     "start_time": "2025-01-21T20:22:59.620502Z"
    }
   },
   "cell_type": "code",
   "source": [
    "# Percentage of abusive clauses and correct agreement statements + visualization\n",
    "abusive_percentage = round(df_train['label'].value_counts()[0] / len(df_train['label']) * 100, 2)\n",
    "correct_percentage = round(df_train['label'].value_counts()[1] / len(df_train['label']) * 100, 2)\n",
    "print(f\"In train dataset:\")\n",
    "print(f\"{abusive_percentage}% of agreements are considered abusive\")\n",
    "print(f\"{correct_percentage}% of agreements are considered correct\")"
   ],
   "id": "ac3f534d041c04bc",
   "outputs": [
    {
     "name": "stdout",
     "output_type": "stream",
     "text": [
      "In train dataset:\n",
      "45.42% of agreements are considered abusive\n",
      "54.58% of agreements are considered correct\n"
     ]
    }
   ],
   "execution_count": 7
  },
  {
   "metadata": {
    "ExecuteTime": {
     "end_time": "2025-01-21T20:22:59.754220Z",
     "start_time": "2025-01-21T20:22:59.626627Z"
    }
   },
   "cell_type": "code",
   "source": [
    "plt.figure(figsize=(6, 4))\n",
    "sns.countplot(x='label', data=df_train, color='green')\n",
    "plt.title('Distribution of abusive and correct clauses')\n",
    "plt.xlabel('Label (0 = abusive, 1 = Correct)')\n",
    "plt.ylabel('Count')\n",
    "plt.show()"
   ],
   "id": "f147cb7100373b8",
   "outputs": [
    {
     "data": {
      "text/plain": [
       "<Figure size 600x400 with 1 Axes>"
      ],
      "image/png": "[encoded data removed]"
     },
     "metadata": {},
     "output_type": "display_data"
    }
   ],
   "execution_count": 8
  },
  {
   "metadata": {
    "ExecuteTime": {
     "end_time": "2025-01-21T20:22:59.790741Z",
     "start_time": "2025-01-21T20:22:59.756208Z"
    }
   },
   "cell_type": "code",
   "source": [
    "# Calculating the length of each agreement + visualization\n",
    "df_train['text_length'] = df_train['text'].apply(len)"
   ],
   "id": "1e20bed105d98fb4",
   "outputs": [],
   "execution_count": 9
  },
  {
   "metadata": {
    "ExecuteTime": {
     "end_time": "2025-01-21T20:23:00.078862Z",
     "start_time": "2025-01-21T20:22:59.797324Z"
    }
   },
   "cell_type": "code",
   "source": [
    "plt.figure(figsize=(10, 6))\n",
    "sns.histplot(df_train['text_length'], kde=True, bins=30, color='green')\n",
    "plt.title('Distribution of content length in agreement texts', fontsize=16)\n",
    "plt.xlabel('Content length (number of characters)', fontsize=12)\n",
    "plt.ylabel('Frequency', fontsize=12)\n",
    "plt.xlim(left=0)\n",
    "plt.show()"
   ],
   "id": "2730ec41f52867eb",
   "outputs": [
    {
     "data": {
      "text/plain": [
       "<Figure size 1000x600 with 1 Axes>"
      ],
      "image/png": "[encoded data removed]"
     },
     "metadata": {},
     "output_type": "display_data"
    }
   ],
   "execution_count": 10
  },
  {
   "metadata": {},
   "cell_type": "markdown",
   "source": "From the chart it can be concluded that most of the content of the agreements does not exceed 200 characters.",
   "id": "56e9e7f7ce4555a0"
  },
  {
   "metadata": {},
   "cell_type": "markdown",
   "source": "## 2. Data preprocessing",
   "id": "ab1c303f797fedaa"
  },
  {
   "metadata": {
    "ExecuteTime": {
     "end_time": "2025-01-21T20:23:00.086012Z",
     "start_time": "2025-01-21T20:23:00.081583Z"
    }
   },
   "cell_type": "code",
   "source": "df_train['text'].iloc[9]",
   "id": "d63a8abae2591c98",
   "outputs": [
    {
     "data": {
      "text/plain": [
       "'Okres trwania pożyczki wynosi 1 miesiąc, przy czym może zostać przedłużana co miesiąc do 24 miesięcy'"
      ]
     },
     "execution_count": 11,
     "metadata": {},
     "output_type": "execute_result"
    }
   ],
   "execution_count": 11
  },
  {
   "metadata": {
    "ExecuteTime": {
     "end_time": "2025-01-21T20:23:00.143393Z",
     "start_time": "2025-01-21T20:23:00.100698Z"
    }
   },
   "cell_type": "code",
   "source": [
    "# Removing numbers from the text using regex pattern\n",
    "pattern = r'\\b\\w*\\d\\w*\\b'\n",
    "df_train['text'] = df_train['text'].str.replace(pattern, '', regex=True).str.strip()\n",
    "df_train['text'].iloc[9]"
   ],
   "id": "317a9fdc19cb8700",
   "outputs": [
    {
     "data": {
      "text/plain": [
       "'Okres trwania pożyczki wynosi  miesiąc, przy czym może zostać przedłużana co miesiąc do  miesięcy'"
      ]
     },
     "execution_count": 12,
     "metadata": {},
     "output_type": "execute_result"
    }
   ],
   "execution_count": 12
  },
  {
   "metadata": {
    "ExecuteTime": {
     "end_time": "2025-01-21T20:23:00.160760Z",
     "start_time": "2025-01-21T20:23:00.144989Z"
    }
   },
   "cell_type": "code",
   "source": [
    "# Removing capital letters from the content\n",
    "df_train['text'] = df_train['text'].str.lower()\n",
    "df_train['text'].iloc[9]"
   ],
   "id": "ee46ddd26e4d4666",
   "outputs": [
    {
     "data": {
      "text/plain": [
       "'okres trwania pożyczki wynosi  miesiąc, przy czym może zostać przedłużana co miesiąc do  miesięcy'"
      ]
     },
     "execution_count": 13,
     "metadata": {},
     "output_type": "execute_result"
    }
   ],
   "execution_count": 13
  },
  {
   "metadata": {
    "ExecuteTime": {
     "end_time": "2025-01-21T20:23:00.180072Z",
     "start_time": "2025-01-21T20:23:00.162062Z"
    }
   },
   "cell_type": "code",
   "source": [
    "# Removing punctuation marks from the content\n",
    "df_train['text'] = df_train['text'].str.replace(r'[^\\w\\s]','',regex=True)\n",
    "df_train['text'].iloc[9]"
   ],
   "id": "3faaeb093e30a181",
   "outputs": [
    {
     "data": {
      "text/plain": [
       "'okres trwania pożyczki wynosi  miesiąc przy czym może zostać przedłużana co miesiąc do  miesięcy'"
      ]
     },
     "execution_count": 14,
     "metadata": {},
     "output_type": "execute_result"
    }
   ],
   "execution_count": 14
  },
  {
   "metadata": {
    "ExecuteTime": {
     "end_time": "2025-01-21T20:23:00.255259Z",
     "start_time": "2025-01-21T20:23:00.180779Z"
    }
   },
   "cell_type": "code",
   "source": [
    "# Data preprocessing for test and validation data sets the same way as the training data to ensure consistency in how the model sees the data\n",
    "df_test['text'] = df_test['text'].str.replace(pattern, '', regex=True).str.strip()\n",
    "df_test['text'] = df_test['text'].str.lower()\n",
    "df_test['text'] = df_test['text'].str.replace(r'[^\\w\\s]','',regex=True)\n",
    "\n",
    "df_validation['text'] = df_validation['text'].str.replace(pattern, '', regex=True).str.strip()\n",
    "df_validation['text'] = df_validation['text'].str.lower()\n",
    "df_validation['text'] = df_validation['text'].str.replace(r'[^\\w\\s]','',regex=True)"
   ],
   "id": "79aec8c433d93406",
   "outputs": [],
   "execution_count": 15
  },
  {
   "metadata": {},
   "cell_type": "markdown",
   "source": "## 3. Machine learning",
   "id": "7995abee31746e66"
  },
  {
   "metadata": {
    "ExecuteTime": {
     "end_time": "2025-01-21T20:23:00.257944Z",
     "start_time": "2025-01-21T20:23:00.256009Z"
    }
   },
   "cell_type": "code",
   "source": [
    "x_train = df_train.text\n",
    "x_test = df_test.text"
   ],
   "id": "201fa5c4fed0f09b",
   "outputs": [],
   "execution_count": 16
  },
  {
   "metadata": {
    "ExecuteTime": {
     "end_time": "2025-01-21T20:23:00.260308Z",
     "start_time": "2025-01-21T20:23:00.258493Z"
    }
   },
   "cell_type": "code",
   "source": [
    "y_train = df_train.label\n",
    "y_test = df_test.label"
   ],
   "id": "ba82b06b5a1bd6fd",
   "outputs": [],
   "execution_count": 17
  },
  {
   "metadata": {},
   "cell_type": "markdown",
   "source": "There are no polish stop words in nltk library, so I manually added txt file with them",
   "id": "51264f23848d5ac7"
  },
  {
   "metadata": {
    "ExecuteTime": {
     "end_time": "2025-01-21T20:23:00.262943Z",
     "start_time": "2025-01-21T20:23:00.260862Z"
    }
   },
   "cell_type": "code",
   "source": [
    "# Loading stop words from a file\n",
    "with open(\"polish.stopwords.txt\", \"r\", encoding=\"utf-8\") as f:\n",
    "    polish_stop_words = [line.strip() for line in f]"
   ],
   "id": "b2530997d13e97d6",
   "outputs": [],
   "execution_count": 18
  },
  {
   "metadata": {
    "ExecuteTime": {
     "end_time": "2025-01-21T20:23:00.361592Z",
     "start_time": "2025-01-21T20:23:00.263488Z"
    }
   },
   "cell_type": "code",
   "source": [
    "cv = CountVectorizer(stop_words=polish_stop_words)\n",
    "x_train_cv = cv.fit_transform(x_train)\n",
    "x_test_cv = cv.transform(x_test)"
   ],
   "id": "e074d6c92d388f5c",
   "outputs": [],
   "execution_count": 19
  },
  {
   "metadata": {
    "ExecuteTime": {
     "end_time": "2025-01-21T20:23:00.456949Z",
     "start_time": "2025-01-21T20:23:00.362464Z"
    }
   },
   "cell_type": "code",
   "source": [
    "cv_tfidf = TfidfVectorizer(stop_words=polish_stop_words)\n",
    "x_train_cv_tfidf = cv_tfidf.fit_transform(x_train)\n",
    "x_test_cv_tfidf = cv_tfidf.transform(x_test)"
   ],
   "id": "ed3b2b2cd69b4e81",
   "outputs": [],
   "execution_count": 20
  },
  {
   "metadata": {},
   "cell_type": "markdown",
   "source": "### Linear regression",
   "id": "d7e7b25ba979e1fb"
  },
  {
   "metadata": {
    "ExecuteTime": {
     "end_time": "2025-01-21T20:23:00.593526Z",
     "start_time": "2025-01-21T20:23:00.457655Z"
    }
   },
   "cell_type": "code",
   "source": [
    "# Linear regression classification model\n",
    "lr = LogisticRegression()\n",
    "lr.fit(x_train_cv, y_train)\n",
    "y_pred_cv = lr.predict(x_test_cv)"
   ],
   "id": "4051d0bc5bf6c47e",
   "outputs": [],
   "execution_count": 21
  },
  {
   "metadata": {
    "ExecuteTime": {
     "end_time": "2025-01-21T20:23:00.602138Z",
     "start_time": "2025-01-21T20:23:00.596641Z"
    }
   },
   "cell_type": "code",
   "source": [
    "# Logistic regression model evaluation\n",
    "cm = confusion_matrix(y_test, y_pred_cv)\n",
    "true_neg, false_pos = cm[0, 0], cm[0, 1]\n",
    "false_neg, true_pos = cm[1, 0], cm[1, 1]\n",
    "\n",
    "accuracy = round((true_pos + true_neg) / (true_pos + true_neg + false_pos + false_neg), 3)\n",
    "precision = round(true_pos / (true_pos + false_pos), 3)\n",
    "recall = round(true_pos / (true_pos + false_neg), 3)\n",
    "f1 = round(2 * (precision * recall) / (precision + recall), 3)\n",
    "\n",
    "print(f\"Accuracy: {accuracy}\")\n",
    "print(f\"Precision: {precision}\")\n",
    "print(f\"Recall: {recall}\")\n",
    "print(f\"F1 Score: {f1}\")"
   ],
   "id": "d5f24f2fc4794dda",
   "outputs": [
    {
     "name": "stdout",
     "output_type": "stream",
     "text": [
      "Accuracy: 0.801\n",
      "Precision: 0.854\n",
      "Recall: 0.851\n",
      "F1 Score: 0.852\n"
     ]
    }
   ],
   "execution_count": 22
  },
  {
   "metadata": {
    "ExecuteTime": {
     "end_time": "2025-01-21T20:23:00.819743Z",
     "start_time": "2025-01-21T20:23:00.604368Z"
    }
   },
   "cell_type": "code",
   "source": [
    "# Visualization of evaluation\n",
    "plt.figure(figsize=(8, 6))\n",
    "true_labels = ['Real abusive clause', 'Real correct statement']\n",
    "predicted_labels = ['Predicted abusive clause', 'Predicted correct statement']\n",
    "sns.heatmap(cm, annot=True, fmt='d', cmap='Greens',\n",
    "            xticklabels=predicted_labels, yticklabels=true_labels)\n",
    "plt.title('Confusion Matrix Heatmap')\n",
    "plt.show()"
   ],
   "id": "f52ed60f9e87c5c4",
   "outputs": [
    {
     "data": {
      "text/plain": [
       "<Figure size 800x600 with 2 Axes>"
      ],
      "image/png": "[encoded data removed]"
     },
     "metadata": {},
     "output_type": "display_data"
    }
   ],
   "execution_count": 23
  },
  {
   "metadata": {
    "ExecuteTime": {
     "end_time": "2025-01-21T20:23:01.086299Z",
     "start_time": "2025-01-21T20:23:00.822829Z"
    }
   },
   "cell_type": "code",
   "source": [
    "# Logistic regression with TF-IDF vectorizer\n",
    "lr2 = LogisticRegression()\n",
    "lr2.fit(x_train_cv_tfidf, y_train)\n",
    "y_pred_tfidf = lr2.predict(x_test_cv_tfidf)"
   ],
   "id": "cf14adcc037dd17a",
   "outputs": [],
   "execution_count": 24
  },
  {
   "metadata": {
    "ExecuteTime": {
     "end_time": "2025-01-21T20:23:01.103068Z",
     "start_time": "2025-01-21T20:23:01.089660Z"
    }
   },
   "cell_type": "code",
   "source": [
    "# Model evaluation\n",
    "cm_tfidf = confusion_matrix(y_test, y_pred_tfidf)\n",
    "true_neg, false_pos = cm[0, 0], cm[0, 1]\n",
    "false_neg, true_pos = cm[1, 0], cm[1, 1]\n",
    "\n",
    "accuracy = round((true_pos + true_neg) / (true_pos + true_neg + false_pos + false_neg), 3)\n",
    "precision = round(true_pos / (true_pos + false_pos), 3)\n",
    "recall = round(true_pos / (true_pos + false_neg), 3)\n",
    "f1 = round(2 * (precision * recall) / (precision + recall), 3)\n",
    "\n",
    "print(f\"Accuracy: {accuracy}\")\n",
    "print(f\"Precision: {precision}\")\n",
    "print(f\"Recall: {recall}\")\n",
    "print(f\"F1 Score: {f1}\")"
   ],
   "id": "edf06d63787702b5",
   "outputs": [
    {
     "name": "stdout",
     "output_type": "stream",
     "text": [
      "Accuracy: 0.801\n",
      "Precision: 0.854\n",
      "Recall: 0.851\n",
      "F1 Score: 0.852\n"
     ]
    }
   ],
   "execution_count": 25
  },
  {
   "metadata": {},
   "cell_type": "markdown",
   "source": "### Naive bayes",
   "id": "7c10c62b084f467d"
  },
  {
   "metadata": {
    "ExecuteTime": {
     "end_time": "2025-01-21T20:23:01.114852Z",
     "start_time": "2025-01-21T20:23:01.107897Z"
    }
   },
   "cell_type": "code",
   "source": [
    "nb = MultinomialNB()\n",
    "nb.fit(x_train_cv, y_train)\n",
    "y_pred_cv_nb = nb.predict(x_test_cv)"
   ],
   "id": "f145c1ca1e9d952a",
   "outputs": [],
   "execution_count": 26
  },
  {
   "metadata": {
    "ExecuteTime": {
     "end_time": "2025-01-21T20:23:01.123104Z",
     "start_time": "2025-01-21T20:23:01.116450Z"
    }
   },
   "cell_type": "code",
   "source": [
    "# Model evaluation\n",
    "cm = confusion_matrix(y_test, y_pred_cv_nb)\n",
    "true_neg, false_pos = cm[0, 0], cm[0, 1]\n",
    "false_neg, true_pos = cm[1, 0], cm[1, 1]\n",
    "\n",
    "accuracy = round((true_pos + true_neg) / (true_pos + true_neg + false_pos + false_neg), 3)\n",
    "precision = round(true_pos / (true_pos + false_pos), 3)\n",
    "recall = round(true_pos / (true_pos + false_neg), 3)\n",
    "f1 = round(2 * (precision * recall) / (precision + recall), 3)\n",
    "\n",
    "print(f\"Accuracy: {accuracy}\")\n",
    "print(f\"Precision: {precision}\")\n",
    "print(f\"Recall: {recall}\")\n",
    "print(f\"F1 Score: {f1}\")"
   ],
   "id": "3da53d1c4e9bf8d3",
   "outputs": [
    {
     "name": "stdout",
     "output_type": "stream",
     "text": [
      "Accuracy: 0.776\n",
      "Precision: 0.868\n",
      "Recall: 0.788\n",
      "F1 Score: 0.826\n"
     ]
    }
   ],
   "execution_count": 27
  },
  {
   "metadata": {
    "ExecuteTime": {
     "end_time": "2025-01-21T20:23:01.344731Z",
     "start_time": "2025-01-21T20:23:01.124629Z"
    }
   },
   "cell_type": "code",
   "source": [
    "# Visualization of evaluation\n",
    "plt.figure(figsize=(8, 6))\n",
    "true_labels = ['Real abusive clause', 'Real correct statement']\n",
    "predicted_labels = ['Predicted abusive clause', 'Predicted correct statement']\n",
    "sns.heatmap(cm, annot=True, fmt='d', cmap='Greens',\n",
    "            xticklabels=predicted_labels, yticklabels=true_labels)\n",
    "plt.title('Confusion Matrix Heatmap')\n",
    "plt.show()"
   ],
   "id": "9c850772cbbbc60f",
   "outputs": [
    {
     "data": {
      "text/plain": [
       "<Figure size 800x600 with 2 Axes>"
      ],
      "image/png": "[encoded data removed]"
     },
     "metadata": {},
     "output_type": "display_data"
    }
   ],
   "execution_count": 28
  },
  {
   "metadata": {},
   "cell_type": "markdown",
   "source": "## Support Vector Machine (SVM)",
   "id": "2301b794c2cda9fc"
  },
  {
   "metadata": {
    "ExecuteTime": {
     "end_time": "2025-01-21T20:23:02.741652Z",
     "start_time": "2025-01-21T20:23:01.346811Z"
    }
   },
   "cell_type": "code",
   "source": [
    "svm_model = SVC(kernel='linear', C=1)\n",
    "svm_model.fit(x_train_cv, y_train)\n",
    "y_pred_svm = svm_model.predict(x_test_cv)"
   ],
   "id": "9e101b9ee150c4ae",
   "outputs": [],
   "execution_count": 29
  },
  {
   "metadata": {
    "ExecuteTime": {
     "end_time": "2025-01-21T20:23:02.747337Z",
     "start_time": "2025-01-21T20:23:02.742676Z"
    }
   },
   "cell_type": "code",
   "source": [
    "# Model evaluation\n",
    "cm = confusion_matrix(y_test, y_pred_svm)\n",
    "true_neg, false_pos = cm[0, 0], cm[0, 1]\n",
    "false_neg, true_pos = cm[1, 0], cm[1, 1]\n",
    "\n",
    "accuracy = round((true_pos + true_neg) / (true_pos + true_neg + false_pos + false_neg), 3)\n",
    "precision = round(true_pos / (true_pos + false_pos), 3)\n",
    "recall = round(true_pos / (true_pos + false_neg), 3)\n",
    "f1 = round(2 * (precision * recall) / (precision + recall), 3)\n",
    "\n",
    "print(f\"Accuracy: {accuracy}\")\n",
    "print(f\"Precision: {precision}\")\n",
    "print(f\"Recall: {recall}\")\n",
    "print(f\"F1 Score: {f1}\")"
   ],
   "id": "fa007da31e7ad2c3",
   "outputs": [
    {
     "name": "stdout",
     "output_type": "stream",
     "text": [
      "Accuracy: 0.789\n",
      "Precision: 0.858\n",
      "Recall: 0.823\n",
      "F1 Score: 0.84\n"
     ]
    }
   ],
   "execution_count": 30
  },
  {
   "metadata": {},
   "cell_type": "markdown",
   "source": "## K-Nearest Neighbors (KNN)",
   "id": "ec0667d37e78cc32"
  },
  {
   "metadata": {
    "ExecuteTime": {
     "end_time": "2025-01-21T20:23:03.027357Z",
     "start_time": "2025-01-21T20:23:02.748097Z"
    }
   },
   "cell_type": "code",
   "source": [
    "knn_model = KNeighborsClassifier(n_neighbors=5)\n",
    "knn_model.fit(x_train_cv, y_train)\n",
    "y_pred_knn = knn_model.predict(x_test_cv)"
   ],
   "id": "6e498e1f1807dc89",
   "outputs": [],
   "execution_count": 31
  },
  {
   "metadata": {
    "ExecuteTime": {
     "end_time": "2025-01-21T20:23:03.032902Z",
     "start_time": "2025-01-21T20:23:03.028358Z"
    }
   },
   "cell_type": "code",
   "source": [
    "cm = confusion_matrix(y_test, y_pred_svm)\n",
    "true_neg, false_pos = cm[0, 0], cm[0, 1]\n",
    "false_neg, true_pos = cm[1, 0], cm[1, 1]\n",
    "\n",
    "accuracy = round((true_pos + true_neg) / (true_pos + true_neg + false_pos + false_neg), 3)\n",
    "precision = round(true_pos / (true_pos + false_pos), 3)\n",
    "recall = round(true_pos / (true_pos + false_neg), 3)\n",
    "f1 = round(2 * (precision * recall) / (precision + recall), 3)\n",
    "\n",
    "print(f\"Accuracy: {accuracy}\")\n",
    "print(f\"Precision: {precision}\")\n",
    "print(f\"Recall: {recall}\")\n",
    "print(f\"F1 Score: {f1}\")"
   ],
   "id": "62f187c7ee5bc49e",
   "outputs": [
    {
     "name": "stdout",
     "output_type": "stream",
     "text": [
      "Accuracy: 0.789\n",
      "Precision: 0.858\n",
      "Recall: 0.823\n",
      "F1 Score: 0.84\n"
     ]
    }
   ],
   "execution_count": 32
  },
  {
   "metadata": {},
   "cell_type": "markdown",
   "source": [
    "# 4. Summary\n",
    "\n",
    "The goal of this project was to create a model for classifying agreement contents into two categories: abusive clauses and correct contractual statements, by:\n",
    "\n",
    "• Data Preparation:\n",
    "\n",
    "Data was retrieved from a dataset available in the datasets library.\n",
    "Initial preprocessing included the removal of digits, capital letters, punctuation marks, and stop words.\n",
    "\n",
    "• Text Processing:\n",
    "\n",
    "Different approaches to vectorization were used: CountVectorizer and TfidfVectorizer, with Polish stop words taken into account.\n",
    "\n",
    "• Model Training:\n",
    "\n",
    "A few classification models were trained and included in report. All of them were tested on the test dataset."
   ],
   "id": "aae8b882873db462"
  },
  {
   "metadata": {},
   "cell_type": "markdown",
   "source": [
    "\n",
    "Model performance was evaluated using metrics such as accuracy, precision, recall, and F1-score, with results displayed in a confusion matrix. The results of the models' evaluations and classifications were presented in visualizations, including confusion matrices.\n",
    "\n",
    "The maximum F1 score that was achieved was 0.852 for Linear Regression model, both for CountVectorizer and TfidfVectorizer. All other models had a worse F1 score.\n",
    "\n",
    "A difficulty encountered in the project was the lack of libraries for natural language processing in Polish, which made lemmetization and stemming impossible or very time-consuming.\n"
   ],
   "id": "46cc028162aae3e9"
  },
  {
   "metadata": {
    "ExecuteTime": {
     "end_time": "2025-01-21T20:23:03.034888Z",
     "start_time": "2025-01-21T20:23:03.033588Z"
    }
   },
   "cell_type": "code",
   "source": "",
   "id": "2697df36da564be7",
   "outputs": [],
   "execution_count": 32
  }
 ],
 "metadata": {
  "kernelspec": {
   "display_name": "Python 3",
   "language": "python",
   "name": "python3"
  },
  "language_info": {
   "codemirror_mode": {
    "name": "ipython",
    "version": 2
   },
   "file_extension": ".py",
   "mimetype": "text/x-python",
   "name": "python",
   "nbconvert_exporter": "python",
   "pygments_lexer": "ipython2",
   "version": "2.7.6"
  }
 },
 "nbformat": 4,
 "nbformat_minor": 5
}
