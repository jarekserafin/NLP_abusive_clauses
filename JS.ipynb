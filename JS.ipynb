{
 "cells": [
  {
   "metadata": {},
   "cell_type": "markdown",
   "source": [
    "### Introduction\n",
    "In the case of 'Unfair clauses' the data is retrieved using the 'datasets' library."
   ],
   "id": "ca0ec7ea55b680a1"
  },
  {
   "metadata": {
    "ExecuteTime": {
     "end_time": "2025-01-21T19:53:03.151611Z",
     "start_time": "2025-01-21T19:53:03.122711Z"
    }
   },
   "cell_type": "code",
   "source": [
    "# Required imports\n",
    "\n",
    "import matplotlib.pyplot as plt\n",
    "import pandas as pd\n",
    "import numpy as np\n",
    "\n",
    "# Data visualisation\n",
    "import seaborn as sns\n",
    "\n",
    "# Data processing\n",
    "from datasets import load_dataset\n",
    "\n",
    "# Vectorizers\n",
    "from sklearn.feature_extraction.text import CountVectorizer\n",
    "from sklearn.feature_extraction.text import TfidfVectorizer\n",
    "\n",
    "# Machine learning\n",
    "from sklearn.linear_model import LogisticRegression\n",
    "from sklearn.metrics import confusion_matrix\n",
    "from sklearn.naive_bayes import MultinomialNB\n",
    "from sklearn.svm import SVC\n",
    "from sklearn.neighbors import KNeighborsClassifier"
   ],
   "id": "d5643ef6720b1f47",
   "outputs": [],
   "execution_count": 53
  },
  {
   "metadata": {},
   "cell_type": "markdown",
   "source": [
    "## Data cleaning\n",
    "\n",
    "• Remove: capital letters, punctuation, numbers, stop words\n",
    "\n",
    "• Stemming \n",
    "\n",
    "• Correct misspellings\n",
    "\n",
    "• Parts of speech tagging\n",
    "\n",
    "• Chunking (named entity recognition, compound term extraction)"
   ],
   "id": "d1d5e4fe66dfa376"
  },
  {
   "metadata": {
    "ExecuteTime": {
     "end_time": "2025-01-21T19:01:57.050070Z",
     "start_time": "2025-01-21T19:01:54.454723Z"
    }
   },
   "cell_type": "code",
   "source": [
    "# Retrieving data using load_dataset function\n",
    "data = load_dataset(\"laugustyniak/abusive-clauses-pl\")\n",
    "print(data)"
   ],
   "id": "a38ae07c65893fa4",
   "outputs": [
    {
     "name": "stdout",
     "output_type": "stream",
     "text": [
      "DatasetDict({\n",
      "    train: Dataset({\n",
      "        features: ['text', 'label'],\n",
      "        num_rows: 4284\n",
      "    })\n",
      "    test: Dataset({\n",
      "        features: ['text', 'label'],\n",
      "        num_rows: 3453\n",
      "    })\n",
      "    validation: Dataset({\n",
      "        features: ['text', 'label'],\n",
      "        num_rows: 1519\n",
      "    })\n",
      "})\n"
     ]
    }
   ],
   "execution_count": 2
  },
  {
   "metadata": {},
   "cell_type": "markdown",
   "source": "The data is divided into sets: train, test and validation.",
   "id": "d5eb3a2a0d19fe20"
  },
  {
   "metadata": {
    "ExecuteTime": {
     "end_time": "2025-01-21T19:01:58.536120Z",
     "start_time": "2025-01-21T19:01:58.517202Z"
    }
   },
   "cell_type": "code",
   "source": [
    "# Transforming data to Pandas DataFrame\n",
    "df_train = data['train'].to_pandas()\n",
    "df_test = data['test'].to_pandas()\n",
    "df_validation = data['validation'].to_pandas()"
   ],
   "id": "d6136c0738de95b8",
   "outputs": [],
   "execution_count": 3
  },
  {
   "metadata": {
    "ExecuteTime": {
     "end_time": "2025-01-21T19:01:59.208916Z",
     "start_time": "2025-01-21T19:01:59.200109Z"
    }
   },
   "cell_type": "code",
   "source": "df_train.head(10)",
   "id": "3970c4065a2039c9",
   "outputs": [
    {
     "data": {
      "text/plain": [
       "                                                text  label\n",
       "0  Wszelka korespondencja wysyłana przez Pożyczko...      0\n",
       "1  W przypadku opóźnień Pożyczkobiorcy w spłacie ...      0\n",
       "2  W przypadku opóźnień Pożyczkobiorcy w spłacie ...      0\n",
       "3  Pożyczkobiorca zleca firmie Narodowy Fundusz P...      0\n",
       "4  Od niespłaconej w terminie raty Pożyczkobiorca...      0\n",
       "5  Pożyczkobiorca ma prawo wybrać inny sposób prz...      0\n",
       "6  W przypadku braku spłaty pożyczki w terminie P...      0\n",
       "7  Zabezpieczeniem spłaty pożyczki będzie podpisa...      0\n",
       "8  Termin zwrotu pożyczki strony ustalają na 01 w...      0\n",
       "9  Okres trwania pożyczki wynosi 1 miesiąc, przy ...      0"
      ],
      "text/html": [
       "<div>\n",
       "<style scoped>\n",
       "    .dataframe tbody tr th:only-of-type {\n",
       "        vertical-align: middle;\n",
       "    }\n",
       "\n",
       "    .dataframe tbody tr th {\n",
       "        vertical-align: top;\n",
       "    }\n",
       "\n",
       "    .dataframe thead th {\n",
       "        text-align: right;\n",
       "    }\n",
       "</style>\n",
       "<table border=\"1\" class=\"dataframe\">\n",
       "  <thead>\n",
       "    <tr style=\"text-align: right;\">\n",
       "      <th></th>\n",
       "      <th>text</th>\n",
       "      <th>label</th>\n",
       "    </tr>\n",
       "  </thead>\n",
       "  <tbody>\n",
       "    <tr>\n",
       "      <th>0</th>\n",
       "      <td>Wszelka korespondencja wysyłana przez Pożyczko...</td>\n",
       "      <td>0</td>\n",
       "    </tr>\n",
       "    <tr>\n",
       "      <th>1</th>\n",
       "      <td>W przypadku opóźnień Pożyczkobiorcy w spłacie ...</td>\n",
       "      <td>0</td>\n",
       "    </tr>\n",
       "    <tr>\n",
       "      <th>2</th>\n",
       "      <td>W przypadku opóźnień Pożyczkobiorcy w spłacie ...</td>\n",
       "      <td>0</td>\n",
       "    </tr>\n",
       "    <tr>\n",
       "      <th>3</th>\n",
       "      <td>Pożyczkobiorca zleca firmie Narodowy Fundusz P...</td>\n",
       "      <td>0</td>\n",
       "    </tr>\n",
       "    <tr>\n",
       "      <th>4</th>\n",
       "      <td>Od niespłaconej w terminie raty Pożyczkobiorca...</td>\n",
       "      <td>0</td>\n",
       "    </tr>\n",
       "    <tr>\n",
       "      <th>5</th>\n",
       "      <td>Pożyczkobiorca ma prawo wybrać inny sposób prz...</td>\n",
       "      <td>0</td>\n",
       "    </tr>\n",
       "    <tr>\n",
       "      <th>6</th>\n",
       "      <td>W przypadku braku spłaty pożyczki w terminie P...</td>\n",
       "      <td>0</td>\n",
       "    </tr>\n",
       "    <tr>\n",
       "      <th>7</th>\n",
       "      <td>Zabezpieczeniem spłaty pożyczki będzie podpisa...</td>\n",
       "      <td>0</td>\n",
       "    </tr>\n",
       "    <tr>\n",
       "      <th>8</th>\n",
       "      <td>Termin zwrotu pożyczki strony ustalają na 01 w...</td>\n",
       "      <td>0</td>\n",
       "    </tr>\n",
       "    <tr>\n",
       "      <th>9</th>\n",
       "      <td>Okres trwania pożyczki wynosi 1 miesiąc, przy ...</td>\n",
       "      <td>0</td>\n",
       "    </tr>\n",
       "  </tbody>\n",
       "</table>\n",
       "</div>"
      ]
     },
     "execution_count": 4,
     "metadata": {},
     "output_type": "execute_result"
    }
   ],
   "execution_count": 4
  },
  {
   "metadata": {
    "ExecuteTime": {
     "end_time": "2025-01-21T19:01:59.855567Z",
     "start_time": "2025-01-21T19:01:59.852475Z"
    }
   },
   "cell_type": "code",
   "source": "print(df_train['text'][9])",
   "id": "9ca7f3718469dcd3",
   "outputs": [
    {
     "name": "stdout",
     "output_type": "stream",
     "text": [
      "Okres trwania pożyczki wynosi 1 miesiąc, przy czym może zostać przedłużana co miesiąc do 24 miesięcy\n"
     ]
    }
   ],
   "execution_count": 5
  },
  {
   "metadata": {},
   "cell_type": "markdown",
   "source": "In the 'text' column there is text of agreement. In the 'label' (output) column there are two possible values: 0 in the case of abusive clause\\, and 1 in the case of correct agreement statement",
   "id": "3fe30f929a7cb38a"
  },
  {
   "metadata": {
    "ExecuteTime": {
     "end_time": "2025-01-21T19:02:01.079916Z",
     "start_time": "2025-01-21T19:02:01.074576Z"
    }
   },
   "cell_type": "code",
   "source": [
    "# Checking if there are any null values in the 'text' column of the train, test, or validation\n",
    "print(df_train['text'].isnull().any() or df_test['text'].isnull().any() or df_validation['text'].isnull().any())"
   ],
   "id": "844ea42f0b85e03e",
   "outputs": [
    {
     "name": "stdout",
     "output_type": "stream",
     "text": [
      "False\n"
     ]
    }
   ],
   "execution_count": 6
  },
  {
   "metadata": {
    "ExecuteTime": {
     "end_time": "2025-01-21T19:10:05.561009Z",
     "start_time": "2025-01-21T19:10:05.550603Z"
    }
   },
   "cell_type": "code",
   "source": [
    "# Percentage of abusive clauses and correct agreement statements + visualization\n",
    "abusive_percentage = round(df_train['label'].value_counts()[0] / len(df_train['label']) * 100, 2)\n",
    "correct_percentage = round(df_train['label'].value_counts()[1] / len(df_train['label']) * 100, 2)\n",
    "print(f\"In train dataset:\")\n",
    "print(f\"{abusive_percentage}% of agreements are considered abusive\")\n",
    "print(f\"{correct_percentage}% of agreements are considered correct\")"
   ],
   "id": "ac3f534d041c04bc",
   "outputs": [
    {
     "name": "stdout",
     "output_type": "stream",
     "text": [
      "In train dataset:\n",
      "45.42% of agreements are abusive\n",
      "54.58% of agreements are correct\n"
     ]
    }
   ],
   "execution_count": 38
  },
  {
   "metadata": {
    "ExecuteTime": {
     "end_time": "2025-01-21T19:07:46.819026Z",
     "start_time": "2025-01-21T19:07:46.573350Z"
    }
   },
   "cell_type": "code",
   "source": [
    "plt.figure(figsize=(6, 4))\n",
    "sns.countplot(x='label', data=df_train, color='green')\n",
    "plt.title('Distribution of abusive and correct clauses')\n",
    "plt.xlabel('Label (0 = abusive, 1 = Correct)')\n",
    "plt.ylabel('Count')\n",
    "plt.show()"
   ],
   "id": "f147cb7100373b8",
   "outputs": [
    {
     "data": {
      "text/plain": [
       "<Figure size 600x400 with 1 Axes>"
      ],
      "image/png": "[encoded data removed]"
     },
     "metadata": {},
     "output_type": "display_data"
    }
   ],
   "execution_count": 35
  },
  {
   "metadata": {
    "ExecuteTime": {
     "end_time": "2025-01-21T19:11:40.266155Z",
     "start_time": "2025-01-21T19:11:40.254605Z"
    }
   },
   "cell_type": "code",
   "source": [
    "# Calculating the length of each agreement + visualization\n",
    "df_train['text_length'] = df_train['text'].apply(len)"
   ],
   "id": "1e20bed105d98fb4",
   "outputs": [],
   "execution_count": 39
  },
  {
   "metadata": {
    "ExecuteTime": {
     "end_time": "2025-01-21T19:13:06.708095Z",
     "start_time": "2025-01-21T19:13:06.414939Z"
    }
   },
   "cell_type": "code",
   "source": [
    "plt.figure(figsize=(10, 6))\n",
    "sns.histplot(df_train['text_length'], kde=True, bins=30, color='green')\n",
    "plt.title('Distribution of content length in agreement texts', fontsize=16)\n",
    "plt.xlabel('Content length (number of characters)', fontsize=12)\n",
    "plt.ylabel('Frequency', fontsize=12)\n",
    "plt.xlim(left=0)\n",
    "plt.show()"
   ],
   "id": "2730ec41f52867eb",
   "outputs": [
    {
     "data": {
      "text/plain": [
       "<Figure size 1000x600 with 1 Axes>"
      ],
      "image/png": "[encoded data removed]"
     },
     "metadata": {},
     "output_type": "display_data"
    }
   ],
   "execution_count": 42
  },
  {
   "metadata": {},
   "cell_type": "markdown",
   "source": "From the chart it can be concluded that most of the content of the agreements does not exceed 200 characters.",
   "id": "56e9e7f7ce4555a0"
  },
  {
   "metadata": {},
   "cell_type": "markdown",
   "source": [
    "## 2. Data preprocessing\n",
    "\n",
    "short description"
   ],
   "id": "ab1c303f797fedaa"
  },
  {
   "metadata": {
    "ExecuteTime": {
     "end_time": "2025-01-21T19:02:03.766659Z",
     "start_time": "2025-01-21T19:02:03.761823Z"
    }
   },
   "cell_type": "code",
   "source": "df_train['text'].iloc[9]",
   "id": "d63a8abae2591c98",
   "outputs": [
    {
     "data": {
      "text/plain": [
       "'Okres trwania pożyczki wynosi 1 miesiąc, przy czym może zostać przedłużana co miesiąc do 24 miesięcy'"
      ]
     },
     "execution_count": 10,
     "metadata": {},
     "output_type": "execute_result"
    }
   ],
   "execution_count": 10
  },
  {
   "metadata": {
    "ExecuteTime": {
     "end_time": "2025-01-21T19:02:04.195598Z",
     "start_time": "2025-01-21T19:02:04.139150Z"
    }
   },
   "cell_type": "code",
   "source": [
    "# Removing numbers from the text using regex pattern\n",
    "pattern = r'\\b\\w*\\d\\w*\\b'\n",
    "df_train['text'] = df_train['text'].str.replace(pattern, '', regex=True).str.strip()\n",
    "df_train['text'].iloc[9]"
   ],
   "id": "317a9fdc19cb8700",
   "outputs": [
    {
     "data": {
      "text/plain": [
       "'Okres trwania pożyczki wynosi  miesiąc, przy czym może zostać przedłużana co miesiąc do  miesięcy'"
      ]
     },
     "execution_count": 11,
     "metadata": {},
     "output_type": "execute_result"
    }
   ],
   "execution_count": 11
  },
  {
   "metadata": {
    "ExecuteTime": {
     "end_time": "2025-01-21T19:02:04.593237Z",
     "start_time": "2025-01-21T19:02:04.581859Z"
    }
   },
   "cell_type": "code",
   "source": [
    "# Removing capital letters from the content\n",
    "df_train['text'] = df_train['text'].str.lower()\n",
    "df_train['text'].iloc[9]"
   ],
   "id": "ee46ddd26e4d4666",
   "outputs": [
    {
     "data": {
      "text/plain": [
       "'okres trwania pożyczki wynosi  miesiąc, przy czym może zostać przedłużana co miesiąc do  miesięcy'"
      ]
     },
     "execution_count": 12,
     "metadata": {},
     "output_type": "execute_result"
    }
   ],
   "execution_count": 12
  },
  {
   "metadata": {
    "ExecuteTime": {
     "end_time": "2025-01-21T19:02:05.040022Z",
     "start_time": "2025-01-21T19:02:05.016395Z"
    }
   },
   "cell_type": "code",
   "source": [
    "# Removing punctuation marks from the content\n",
    "df_train['text'] = df_train['text'].str.replace(r'[^\\w\\s]','',regex=True)\n",
    "df_train['text'].iloc[9]"
   ],
   "id": "3faaeb093e30a181",
   "outputs": [
    {
     "data": {
      "text/plain": [
       "'okres trwania pożyczki wynosi  miesiąc przy czym może zostać przedłużana co miesiąc do  miesięcy'"
      ]
     },
     "execution_count": 13,
     "metadata": {},
     "output_type": "execute_result"
    }
   ],
   "execution_count": 13
  },
  {
   "metadata": {
    "ExecuteTime": {
     "end_time": "2025-01-21T19:02:06.133653Z",
     "start_time": "2025-01-21T19:02:06.133560Z"
    }
   },
   "cell_type": "code",
   "source": [
    "# Data preprocessing for test and validation data sets the same way as the training data to ensure consistency in how the model sees the data\n",
    "df_test['text'] = df_test['text'].str.replace(pattern, '', regex=True).str.strip()\n",
    "df_test['text'] = df_test['text'].str.lower()\n",
    "df_test['text'] = df_test['text'].str.replace(r'[^\\w\\s]','',regex=True)\n",
    "\n",
    "df_validation['text'] = df_validation['text'].str.replace(pattern, '', regex=True).str.strip()\n",
    "df_validation['text'] = df_validation['text'].str.lower()\n",
    "df_validation['text'] = df_validation['text'].str.replace(r'[^\\w\\s]','',regex=True)"
   ],
   "id": "79aec8c433d93406",
   "outputs": [],
   "execution_count": null
  },
  {
   "metadata": {},
   "cell_type": "markdown",
   "source": "## Machine learning",
   "id": "7995abee31746e66"
  },
  {
   "metadata": {
    "ExecuteTime": {
     "end_time": "2025-01-21T19:02:06.959302Z",
     "start_time": "2025-01-21T19:02:06.956614Z"
    }
   },
   "cell_type": "code",
   "source": [
    "x_train = df_train.text\n",
    "x_test = df_test.text"
   ],
   "id": "201fa5c4fed0f09b",
   "outputs": [],
   "execution_count": 15
  },
  {
   "metadata": {
    "ExecuteTime": {
     "end_time": "2025-01-21T19:02:07.417494Z",
     "start_time": "2025-01-21T19:02:07.414540Z"
    }
   },
   "cell_type": "code",
   "source": [
    "y_train = df_train.label\n",
    "y_test = df_test.label"
   ],
   "id": "ba82b06b5a1bd6fd",
   "outputs": [],
   "execution_count": 16
  },
  {
   "metadata": {},
   "cell_type": "markdown",
   "source": "There are no polish stop words in nltk library, so I manually added txt file with them",
   "id": "51264f23848d5ac7"
  },
  {
   "metadata": {
    "ExecuteTime": {
     "end_time": "2025-01-21T19:02:08.274419Z",
     "start_time": "2025-01-21T19:02:08.270083Z"
    }
   },
   "cell_type": "code",
   "source": [
    "# Loading stop words from a file\n",
    "with open(\"polish.stopwords.txt\", \"r\", encoding=\"utf-8\") as f:\n",
    "    polish_stop_words = [line.strip() for line in f]"
   ],
   "id": "b2530997d13e97d6",
   "outputs": [],
   "execution_count": 17
  },
  {
   "metadata": {
    "ExecuteTime": {
     "end_time": "2025-01-21T19:02:08.944384Z",
     "start_time": "2025-01-21T19:02:08.780213Z"
    }
   },
   "cell_type": "code",
   "source": [
    "cv = CountVectorizer(stop_words=polish_stop_words)\n",
    "x_train_cv = cv.fit_transform(x_train)\n",
    "x_test_cv = cv.transform(x_test)"
   ],
   "id": "e074d6c92d388f5c",
   "outputs": [],
   "execution_count": 18
  },
  {
   "metadata": {
    "ExecuteTime": {
     "end_time": "2025-01-21T19:02:09.298615Z",
     "start_time": "2025-01-21T19:02:09.138888Z"
    }
   },
   "cell_type": "code",
   "source": [
    "cv_tfidf = TfidfVectorizer(stop_words=polish_stop_words)\n",
    "x_train_cv_tfidf = cv_tfidf.fit_transform(x_train)\n",
    "x_test_cv_tfidf = cv_tfidf.transform(x_test)"
   ],
   "id": "ed3b2b2cd69b4e81",
   "outputs": [],
   "execution_count": 19
  },
  {
   "metadata": {},
   "cell_type": "markdown",
   "source": "### Linear regression",
   "id": "d7e7b25ba979e1fb"
  },
  {
   "metadata": {
    "ExecuteTime": {
     "end_time": "2025-01-21T19:02:10.236499Z",
     "start_time": "2025-01-21T19:02:10.066426Z"
    }
   },
   "cell_type": "code",
   "source": [
    "# Linear regression classification model\n",
    "lr = LogisticRegression()\n",
    "lr.fit(x_train_cv, y_train)\n",
    "y_pred_cv = lr.predict(x_test_cv)"
   ],
   "id": "4051d0bc5bf6c47e",
   "outputs": [],
   "execution_count": 20
  },
  {
   "metadata": {
    "ExecuteTime": {
     "end_time": "2025-01-21T19:02:10.500465Z",
     "start_time": "2025-01-21T19:02:10.491079Z"
    }
   },
   "cell_type": "code",
   "source": [
    "# Logistic regression model evaluation\n",
    "cm = confusion_matrix(y_test, y_pred_cv)\n",
    "true_neg, false_pos = cm[0, 0], cm[0, 1]\n",
    "false_neg, true_pos = cm[1, 0], cm[1, 1]\n",
    "\n",
    "accuracy = round((true_pos + true_neg) / (true_pos + true_neg + false_pos + false_neg), 3)\n",
    "precision = round(true_pos / (true_pos + false_pos), 3)\n",
    "recall = round(true_pos / (true_pos + false_neg), 3)\n",
    "f1 = round(2 * (precision * recall) / (precision + recall), 3)\n",
    "\n",
    "print(f\"Accuracy: {accuracy}\")\n",
    "print(f\"Precision: {precision}\")\n",
    "print(f\"Recall: {recall}\")\n",
    "print(f\"F1 Score: {f1}\")"
   ],
   "id": "d5f24f2fc4794dda",
   "outputs": [
    {
     "name": "stdout",
     "output_type": "stream",
     "text": [
      "Accuracy: 0.799\n",
      "Precision: 0.853\n",
      "Recall: 0.848\n",
      "F1 Score: 0.85\n"
     ]
    }
   ],
   "execution_count": 21
  },
  {
   "metadata": {
    "ExecuteTime": {
     "end_time": "2025-01-21T19:02:11.064991Z",
     "start_time": "2025-01-21T19:02:10.913675Z"
    }
   },
   "cell_type": "code",
   "source": [
    "# Visualization of evaluation\n",
    "plt.figure(figsize=(8, 6))\n",
    "true_labels = ['Real abusive clause', 'Real correct statement']\n",
    "predicted_labels = ['Predicted abusive clause', 'Predicted correct statement']\n",
    "sns.heatmap(cm, annot=True, fmt='d', cmap='Greens',\n",
    "            xticklabels=predicted_labels, yticklabels=true_labels)\n",
    "plt.title('Confusion Matrix Heatmap')\n",
    "plt.show()"
   ],
   "id": "f52ed60f9e87c5c4",
   "outputs": [
    {
     "data": {
      "text/plain": [
       "<Figure size 800x600 with 2 Axes>"
      ],
      "image/png": "[encoded data removed]"
     },
     "metadata": {},
     "output_type": "display_data"
    }
   ],
   "execution_count": 22
  },
  {
   "metadata": {
    "ExecuteTime": {
     "end_time": "2025-01-21T19:02:11.481558Z",
     "start_time": "2025-01-21T19:02:11.368934Z"
    }
   },
   "cell_type": "code",
   "source": [
    "# Logistic regression with TF-IDF vectorizer\n",
    "lr2 = LogisticRegression()\n",
    "lr2.fit(x_train_cv_tfidf, y_train)\n",
    "y_pred_tfidf = lr2.predict(x_test_cv_tfidf)"
   ],
   "id": "cf14adcc037dd17a",
   "outputs": [],
   "execution_count": 23
  },
  {
   "metadata": {
    "ExecuteTime": {
     "end_time": "2025-01-21T19:02:11.863357Z",
     "start_time": "2025-01-21T19:02:11.856636Z"
    }
   },
   "cell_type": "code",
   "source": [
    "# Model evaluation\n",
    "cm_tfidf = confusion_matrix(y_test, y_pred_tfidf)\n",
    "true_neg, false_pos = cm[0, 0], cm[0, 1]\n",
    "false_neg, true_pos = cm[1, 0], cm[1, 1]\n",
    "\n",
    "accuracy = round((true_pos + true_neg) / (true_pos + true_neg + false_pos + false_neg), 3)\n",
    "precision = round(true_pos / (true_pos + false_pos), 3)\n",
    "recall = round(true_pos / (true_pos + false_neg), 3)\n",
    "f1 = round(2 * (precision * recall) / (precision + recall), 3)\n",
    "\n",
    "print(f\"Accuracy: {accuracy}\")\n",
    "print(f\"Precision: {precision}\")\n",
    "print(f\"Recall: {recall}\")\n",
    "print(f\"F1 Score: {f1}\")"
   ],
   "id": "edf06d63787702b5",
   "outputs": [
    {
     "name": "stdout",
     "output_type": "stream",
     "text": [
      "Accuracy: 0.799\n",
      "Precision: 0.853\n",
      "Recall: 0.848\n",
      "F1 Score: 0.85\n"
     ]
    }
   ],
   "execution_count": 24
  },
  {
   "metadata": {},
   "cell_type": "markdown",
   "source": "### Naive bayes",
   "id": "7c10c62b084f467d"
  },
  {
   "metadata": {
    "ExecuteTime": {
     "end_time": "2025-01-21T19:02:12.870098Z",
     "start_time": "2025-01-21T19:02:12.860669Z"
    }
   },
   "cell_type": "code",
   "source": [
    "nb = MultinomialNB()\n",
    "nb.fit(x_train_cv, y_train)\n",
    "y_pred_cv_nb = nb.predict(x_test_cv)"
   ],
   "id": "f145c1ca1e9d952a",
   "outputs": [
    {
     "data": {
      "text/plain": [
       "MultinomialNB()"
      ],
      "text/html": [
       "<style>#sk-container-id-1 {\n",
       "  /* Definition of color scheme common for light and dark mode */\n",
       "  --sklearn-color-text: #000;\n",
       "  --sklearn-color-text-muted: #666;\n",
       "  --sklearn-color-line: gray;\n",
       "  /* Definition of color scheme for unfitted estimators */\n",
       "  --sklearn-color-unfitted-level-0: #fff5e6;\n",
       "  --sklearn-color-unfitted-level-1: #f6e4d2;\n",
       "  --sklearn-color-unfitted-level-2: #ffe0b3;\n",
       "  --sklearn-color-unfitted-level-3: chocolate;\n",
       "  /* Definition of color scheme for fitted estimators */\n",
       "  --sklearn-color-fitted-level-0: #f0f8ff;\n",
       "  --sklearn-color-fitted-level-1: #d4ebff;\n",
       "  --sklearn-color-fitted-level-2: #b3dbfd;\n",
       "  --sklearn-color-fitted-level-3: cornflowerblue;\n",
       "\n",
       "  /* Specific color for light theme */\n",
       "  --sklearn-color-text-on-default-background: var(--sg-text-color, var(--theme-code-foreground, var(--jp-content-font-color1, black)));\n",
       "  --sklearn-color-background: var(--sg-background-color, var(--theme-background, var(--jp-layout-color0, white)));\n",
       "  --sklearn-color-border-box: var(--sg-text-color, var(--theme-code-foreground, var(--jp-content-font-color1, black)));\n",
       "  --sklearn-color-icon: #696969;\n",
       "\n",
       "  @media (prefers-color-scheme: dark) {\n",
       "    /* Redefinition of color scheme for dark theme */\n",
       "    --sklearn-color-text-on-default-background: var(--sg-text-color, var(--theme-code-foreground, var(--jp-content-font-color1, white)));\n",
       "    --sklearn-color-background: var(--sg-background-color, var(--theme-background, var(--jp-layout-color0, #111)));\n",
       "    --sklearn-color-border-box: var(--sg-text-color, var(--theme-code-foreground, var(--jp-content-font-color1, white)));\n",
       "    --sklearn-color-icon: #878787;\n",
       "  }\n",
       "}\n",
       "\n",
       "#sk-container-id-1 {\n",
       "  color: var(--sklearn-color-text);\n",
       "}\n",
       "\n",
       "#sk-container-id-1 pre {\n",
       "  padding: 0;\n",
       "}\n",
       "\n",
       "#sk-container-id-1 input.sk-hidden--visually {\n",
       "  border: 0;\n",
       "  clip: rect(1px 1px 1px 1px);\n",
       "  clip: rect(1px, 1px, 1px, 1px);\n",
       "  height: 1px;\n",
       "  margin: -1px;\n",
       "  overflow: hidden;\n",
       "  padding: 0;\n",
       "  position: absolute;\n",
       "  width: 1px;\n",
       "}\n",
       "\n",
       "#sk-container-id-1 div.sk-dashed-wrapped {\n",
       "  border: 1px dashed var(--sklearn-color-line);\n",
       "  margin: 0 0.4em 0.5em 0.4em;\n",
       "  box-sizing: border-box;\n",
       "  padding-bottom: 0.4em;\n",
       "  background-color: var(--sklearn-color-background);\n",
       "}\n",
       "\n",
       "#sk-container-id-1 div.sk-container {\n",
       "  /* jupyter's `normalize.less` sets `[hidden] { display: none; }`\n",
       "     but bootstrap.min.css set `[hidden] { display: none !important; }`\n",
       "     so we also need the `!important` here to be able to override the\n",
       "     default hidden behavior on the sphinx rendered scikit-learn.org.\n",
       "     See: https://github.com/scikit-learn/scikit-learn/issues/21755 */\n",
       "  display: inline-block !important;\n",
       "  position: relative;\n",
       "}\n",
       "\n",
       "#sk-container-id-1 div.sk-text-repr-fallback {\n",
       "  display: none;\n",
       "}\n",
       "\n",
       "div.sk-parallel-item,\n",
       "div.sk-serial,\n",
       "div.sk-item {\n",
       "  /* draw centered vertical line to link estimators */\n",
       "  background-image: linear-gradient(var(--sklearn-color-text-on-default-background), var(--sklearn-color-text-on-default-background));\n",
       "  background-size: 2px 100%;\n",
       "  background-repeat: no-repeat;\n",
       "  background-position: center center;\n",
       "}\n",
       "\n",
       "/* Parallel-specific style estimator block */\n",
       "\n",
       "#sk-container-id-1 div.sk-parallel-item::after {\n",
       "  content: \"\";\n",
       "  width: 100%;\n",
       "  border-bottom: 2px solid var(--sklearn-color-text-on-default-background);\n",
       "  flex-grow: 1;\n",
       "}\n",
       "\n",
       "#sk-container-id-1 div.sk-parallel {\n",
       "  display: flex;\n",
       "  align-items: stretch;\n",
       "  justify-content: center;\n",
       "  background-color: var(--sklearn-color-background);\n",
       "  position: relative;\n",
       "}\n",
       "\n",
       "#sk-container-id-1 div.sk-parallel-item {\n",
       "  display: flex;\n",
       "  flex-direction: column;\n",
       "}\n",
       "\n",
       "#sk-container-id-1 div.sk-parallel-item:first-child::after {\n",
       "  align-self: flex-end;\n",
       "  width: 50%;\n",
       "}\n",
       "\n",
       "#sk-container-id-1 div.sk-parallel-item:last-child::after {\n",
       "  align-self: flex-start;\n",
       "  width: 50%;\n",
       "}\n",
       "\n",
       "#sk-container-id-1 div.sk-parallel-item:only-child::after {\n",
       "  width: 0;\n",
       "}\n",
       "\n",
       "/* Serial-specific style estimator block */\n",
       "\n",
       "#sk-container-id-1 div.sk-serial {\n",
       "  display: flex;\n",
       "  flex-direction: column;\n",
       "  align-items: center;\n",
       "  background-color: var(--sklearn-color-background);\n",
       "  padding-right: 1em;\n",
       "  padding-left: 1em;\n",
       "}\n",
       "\n",
       "\n",
       "/* Toggleable style: style used for estimator/Pipeline/ColumnTransformer box that is\n",
       "clickable and can be expanded/collapsed.\n",
       "- Pipeline and ColumnTransformer use this feature and define the default style\n",
       "- Estimators will overwrite some part of the style using the `sk-estimator` class\n",
       "*/\n",
       "\n",
       "/* Pipeline and ColumnTransformer style (default) */\n",
       "\n",
       "#sk-container-id-1 div.sk-toggleable {\n",
       "  /* Default theme specific background. It is overwritten whether we have a\n",
       "  specific estimator or a Pipeline/ColumnTransformer */\n",
       "  background-color: var(--sklearn-color-background);\n",
       "}\n",
       "\n",
       "/* Toggleable label */\n",
       "#sk-container-id-1 label.sk-toggleable__label {\n",
       "  cursor: pointer;\n",
       "  display: flex;\n",
       "  width: 100%;\n",
       "  margin-bottom: 0;\n",
       "  padding: 0.5em;\n",
       "  box-sizing: border-box;\n",
       "  text-align: center;\n",
       "  align-items: start;\n",
       "  justify-content: space-between;\n",
       "  gap: 0.5em;\n",
       "}\n",
       "\n",
       "#sk-container-id-1 label.sk-toggleable__label .caption {\n",
       "  font-size: 0.6rem;\n",
       "  font-weight: lighter;\n",
       "  color: var(--sklearn-color-text-muted);\n",
       "}\n",
       "\n",
       "#sk-container-id-1 label.sk-toggleable__label-arrow:before {\n",
       "  /* Arrow on the left of the label */\n",
       "  content: \"▸\";\n",
       "  float: left;\n",
       "  margin-right: 0.25em;\n",
       "  color: var(--sklearn-color-icon);\n",
       "}\n",
       "\n",
       "#sk-container-id-1 label.sk-toggleable__label-arrow:hover:before {\n",
       "  color: var(--sklearn-color-text);\n",
       "}\n",
       "\n",
       "/* Toggleable content - dropdown */\n",
       "\n",
       "#sk-container-id-1 div.sk-toggleable__content {\n",
       "  max-height: 0;\n",
       "  max-width: 0;\n",
       "  overflow: hidden;\n",
       "  text-align: left;\n",
       "  /* unfitted */\n",
       "  background-color: var(--sklearn-color-unfitted-level-0);\n",
       "}\n",
       "\n",
       "#sk-container-id-1 div.sk-toggleable__content.fitted {\n",
       "  /* fitted */\n",
       "  background-color: var(--sklearn-color-fitted-level-0);\n",
       "}\n",
       "\n",
       "#sk-container-id-1 div.sk-toggleable__content pre {\n",
       "  margin: 0.2em;\n",
       "  border-radius: 0.25em;\n",
       "  color: var(--sklearn-color-text);\n",
       "  /* unfitted */\n",
       "  background-color: var(--sklearn-color-unfitted-level-0);\n",
       "}\n",
       "\n",
       "#sk-container-id-1 div.sk-toggleable__content.fitted pre {\n",
       "  /* unfitted */\n",
       "  background-color: var(--sklearn-color-fitted-level-0);\n",
       "}\n",
       "\n",
       "#sk-container-id-1 input.sk-toggleable__control:checked~div.sk-toggleable__content {\n",
       "  /* Expand drop-down */\n",
       "  max-height: 200px;\n",
       "  max-width: 100%;\n",
       "  overflow: auto;\n",
       "}\n",
       "\n",
       "#sk-container-id-1 input.sk-toggleable__control:checked~label.sk-toggleable__label-arrow:before {\n",
       "  content: \"▾\";\n",
       "}\n",
       "\n",
       "/* Pipeline/ColumnTransformer-specific style */\n",
       "\n",
       "#sk-container-id-1 div.sk-label input.sk-toggleable__control:checked~label.sk-toggleable__label {\n",
       "  color: var(--sklearn-color-text);\n",
       "  background-color: var(--sklearn-color-unfitted-level-2);\n",
       "}\n",
       "\n",
       "#sk-container-id-1 div.sk-label.fitted input.sk-toggleable__control:checked~label.sk-toggleable__label {\n",
       "  background-color: var(--sklearn-color-fitted-level-2);\n",
       "}\n",
       "\n",
       "/* Estimator-specific style */\n",
       "\n",
       "/* Colorize estimator box */\n",
       "#sk-container-id-1 div.sk-estimator input.sk-toggleable__control:checked~label.sk-toggleable__label {\n",
       "  /* unfitted */\n",
       "  background-color: var(--sklearn-color-unfitted-level-2);\n",
       "}\n",
       "\n",
       "#sk-container-id-1 div.sk-estimator.fitted input.sk-toggleable__control:checked~label.sk-toggleable__label {\n",
       "  /* fitted */\n",
       "  background-color: var(--sklearn-color-fitted-level-2);\n",
       "}\n",
       "\n",
       "#sk-container-id-1 div.sk-label label.sk-toggleable__label,\n",
       "#sk-container-id-1 div.sk-label label {\n",
       "  /* The background is the default theme color */\n",
       "  color: var(--sklearn-color-text-on-default-background);\n",
       "}\n",
       "\n",
       "/* On hover, darken the color of the background */\n",
       "#sk-container-id-1 div.sk-label:hover label.sk-toggleable__label {\n",
       "  color: var(--sklearn-color-text);\n",
       "  background-color: var(--sklearn-color-unfitted-level-2);\n",
       "}\n",
       "\n",
       "/* Label box, darken color on hover, fitted */\n",
       "#sk-container-id-1 div.sk-label.fitted:hover label.sk-toggleable__label.fitted {\n",
       "  color: var(--sklearn-color-text);\n",
       "  background-color: var(--sklearn-color-fitted-level-2);\n",
       "}\n",
       "\n",
       "/* Estimator label */\n",
       "\n",
       "#sk-container-id-1 div.sk-label label {\n",
       "  font-family: monospace;\n",
       "  font-weight: bold;\n",
       "  display: inline-block;\n",
       "  line-height: 1.2em;\n",
       "}\n",
       "\n",
       "#sk-container-id-1 div.sk-label-container {\n",
       "  text-align: center;\n",
       "}\n",
       "\n",
       "/* Estimator-specific */\n",
       "#sk-container-id-1 div.sk-estimator {\n",
       "  font-family: monospace;\n",
       "  border: 1px dotted var(--sklearn-color-border-box);\n",
       "  border-radius: 0.25em;\n",
       "  box-sizing: border-box;\n",
       "  margin-bottom: 0.5em;\n",
       "  /* unfitted */\n",
       "  background-color: var(--sklearn-color-unfitted-level-0);\n",
       "}\n",
       "\n",
       "#sk-container-id-1 div.sk-estimator.fitted {\n",
       "  /* fitted */\n",
       "  background-color: var(--sklearn-color-fitted-level-0);\n",
       "}\n",
       "\n",
       "/* on hover */\n",
       "#sk-container-id-1 div.sk-estimator:hover {\n",
       "  /* unfitted */\n",
       "  background-color: var(--sklearn-color-unfitted-level-2);\n",
       "}\n",
       "\n",
       "#sk-container-id-1 div.sk-estimator.fitted:hover {\n",
       "  /* fitted */\n",
       "  background-color: var(--sklearn-color-fitted-level-2);\n",
       "}\n",
       "\n",
       "/* Specification for estimator info (e.g. \"i\" and \"?\") */\n",
       "\n",
       "/* Common style for \"i\" and \"?\" */\n",
       "\n",
       ".sk-estimator-doc-link,\n",
       "a:link.sk-estimator-doc-link,\n",
       "a:visited.sk-estimator-doc-link {\n",
       "  float: right;\n",
       "  font-size: smaller;\n",
       "  line-height: 1em;\n",
       "  font-family: monospace;\n",
       "  background-color: var(--sklearn-color-background);\n",
       "  border-radius: 1em;\n",
       "  height: 1em;\n",
       "  width: 1em;\n",
       "  text-decoration: none !important;\n",
       "  margin-left: 0.5em;\n",
       "  text-align: center;\n",
       "  /* unfitted */\n",
       "  border: var(--sklearn-color-unfitted-level-1) 1pt solid;\n",
       "  color: var(--sklearn-color-unfitted-level-1);\n",
       "}\n",
       "\n",
       ".sk-estimator-doc-link.fitted,\n",
       "a:link.sk-estimator-doc-link.fitted,\n",
       "a:visited.sk-estimator-doc-link.fitted {\n",
       "  /* fitted */\n",
       "  border: var(--sklearn-color-fitted-level-1) 1pt solid;\n",
       "  color: var(--sklearn-color-fitted-level-1);\n",
       "}\n",
       "\n",
       "/* On hover */\n",
       "div.sk-estimator:hover .sk-estimator-doc-link:hover,\n",
       ".sk-estimator-doc-link:hover,\n",
       "div.sk-label-container:hover .sk-estimator-doc-link:hover,\n",
       ".sk-estimator-doc-link:hover {\n",
       "  /* unfitted */\n",
       "  background-color: var(--sklearn-color-unfitted-level-3);\n",
       "  color: var(--sklearn-color-background);\n",
       "  text-decoration: none;\n",
       "}\n",
       "\n",
       "div.sk-estimator.fitted:hover .sk-estimator-doc-link.fitted:hover,\n",
       ".sk-estimator-doc-link.fitted:hover,\n",
       "div.sk-label-container:hover .sk-estimator-doc-link.fitted:hover,\n",
       ".sk-estimator-doc-link.fitted:hover {\n",
       "  /* fitted */\n",
       "  background-color: var(--sklearn-color-fitted-level-3);\n",
       "  color: var(--sklearn-color-background);\n",
       "  text-decoration: none;\n",
       "}\n",
       "\n",
       "/* Span, style for the box shown on hovering the info icon */\n",
       ".sk-estimator-doc-link span {\n",
       "  display: none;\n",
       "  z-index: 9999;\n",
       "  position: relative;\n",
       "  font-weight: normal;\n",
       "  right: .2ex;\n",
       "  padding: .5ex;\n",
       "  margin: .5ex;\n",
       "  width: min-content;\n",
       "  min-width: 20ex;\n",
       "  max-width: 50ex;\n",
       "  color: var(--sklearn-color-text);\n",
       "  box-shadow: 2pt 2pt 4pt #999;\n",
       "  /* unfitted */\n",
       "  background: var(--sklearn-color-unfitted-level-0);\n",
       "  border: .5pt solid var(--sklearn-color-unfitted-level-3);\n",
       "}\n",
       "\n",
       ".sk-estimator-doc-link.fitted span {\n",
       "  /* fitted */\n",
       "  background: var(--sklearn-color-fitted-level-0);\n",
       "  border: var(--sklearn-color-fitted-level-3);\n",
       "}\n",
       "\n",
       ".sk-estimator-doc-link:hover span {\n",
       "  display: block;\n",
       "}\n",
       "\n",
       "/* \"?\"-specific style due to the `<a>` HTML tag */\n",
       "\n",
       "#sk-container-id-1 a.estimator_doc_link {\n",
       "  float: right;\n",
       "  font-size: 1rem;\n",
       "  line-height: 1em;\n",
       "  font-family: monospace;\n",
       "  background-color: var(--sklearn-color-background);\n",
       "  border-radius: 1rem;\n",
       "  height: 1rem;\n",
       "  width: 1rem;\n",
       "  text-decoration: none;\n",
       "  /* unfitted */\n",
       "  color: var(--sklearn-color-unfitted-level-1);\n",
       "  border: var(--sklearn-color-unfitted-level-1) 1pt solid;\n",
       "}\n",
       "\n",
       "#sk-container-id-1 a.estimator_doc_link.fitted {\n",
       "  /* fitted */\n",
       "  border: var(--sklearn-color-fitted-level-1) 1pt solid;\n",
       "  color: var(--sklearn-color-fitted-level-1);\n",
       "}\n",
       "\n",
       "/* On hover */\n",
       "#sk-container-id-1 a.estimator_doc_link:hover {\n",
       "  /* unfitted */\n",
       "  background-color: var(--sklearn-color-unfitted-level-3);\n",
       "  color: var(--sklearn-color-background);\n",
       "  text-decoration: none;\n",
       "}\n",
       "\n",
       "#sk-container-id-1 a.estimator_doc_link.fitted:hover {\n",
       "  /* fitted */\n",
       "  background-color: var(--sklearn-color-fitted-level-3);\n",
       "}\n",
       "</style><div id=\"sk-container-id-1\" class=\"sk-top-container\"><div class=\"sk-text-repr-fallback\"><pre>MultinomialNB()</pre><b>In a Jupyter environment, please rerun this cell to show the HTML representation or trust the notebook. <br />On GitHub, the HTML representation is unable to render, please try loading this page with nbviewer.org.</b></div><div class=\"sk-container\" hidden><div class=\"sk-item\"><div class=\"sk-estimator fitted sk-toggleable\"><input class=\"sk-toggleable__control sk-hidden--visually\" id=\"sk-estimator-id-1\" type=\"checkbox\" checked><label for=\"sk-estimator-id-1\" class=\"sk-toggleable__label fitted sk-toggleable__label-arrow\"><div><div>MultinomialNB</div></div><div><a class=\"sk-estimator-doc-link fitted\" rel=\"noreferrer\" target=\"_blank\" href=\"https://scikit-learn.org/1.6/modules/generated/sklearn.naive_bayes.MultinomialNB.html\">?<span>Documentation for MultinomialNB</span></a><span class=\"sk-estimator-doc-link fitted\">i<span>Fitted</span></span></div></label><div class=\"sk-toggleable__content fitted\"><pre>MultinomialNB()</pre></div> </div></div></div></div>"
      ]
     },
     "execution_count": 25,
     "metadata": {},
     "output_type": "execute_result"
    }
   ],
   "execution_count": 25
  },
  {
   "metadata": {
    "ExecuteTime": {
     "end_time": "2025-01-21T19:02:13.738013Z",
     "start_time": "2025-01-21T19:02:13.729985Z"
    }
   },
   "cell_type": "code",
   "source": [
    "# Model evaluation\n",
    "cm = confusion_matrix(y_test, y_pred_cv_nb)\n",
    "true_neg, false_pos = cm[0, 0], cm[0, 1]\n",
    "false_neg, true_pos = cm[1, 0], cm[1, 1]\n",
    "\n",
    "accuracy = round((true_pos + true_neg) / (true_pos + true_neg + false_pos + false_neg), 3)\n",
    "precision = round(true_pos / (true_pos + false_pos), 3)\n",
    "recall = round(true_pos / (true_pos + false_neg), 3)\n",
    "f1 = round(2 * (precision * recall) / (precision + recall), 3)\n",
    "\n",
    "print(f\"Accuracy: {accuracy}\")\n",
    "print(f\"Precision: {precision}\")\n",
    "print(f\"Recall: {recall}\")\n",
    "print(f\"F1 Score: {f1}\")"
   ],
   "id": "3da53d1c4e9bf8d3",
   "outputs": [
    {
     "name": "stdout",
     "output_type": "stream",
     "text": [
      "Accuracy: 0.775\n",
      "Precision: 0.867\n",
      "Recall: 0.787\n",
      "F1 Score: 0.825\n"
     ]
    }
   ],
   "execution_count": 27
  },
  {
   "metadata": {
    "ExecuteTime": {
     "end_time": "2025-01-21T19:02:14.539532Z",
     "start_time": "2025-01-21T19:02:14.380575Z"
    }
   },
   "cell_type": "code",
   "source": [
    "# Visualization of evaluation\n",
    "plt.figure(figsize=(8, 6))\n",
    "true_labels = ['Real abusive clause', 'Real correct statement']\n",
    "predicted_labels = ['Predicted abusive clause', 'Predicted correct statement']\n",
    "sns.heatmap(cm, annot=True, fmt='d', cmap='Greens',\n",
    "            xticklabels=predicted_labels, yticklabels=true_labels)\n",
    "plt.title('Confusion Matrix Heatmap')\n",
    "plt.show()"
   ],
   "id": "9c850772cbbbc60f",
   "outputs": [
    {
     "data": {
      "text/plain": [
       "<Figure size 800x600 with 2 Axes>"
      ],
      "image/png": "[encoded data removed]"
     },
     "metadata": {},
     "output_type": "display_data"
    }
   ],
   "execution_count": 28
  },
  {
   "metadata": {},
   "cell_type": "markdown",
   "source": "## Support Vector Machine (SVM)",
   "id": "2301b794c2cda9fc"
  },
  {
   "metadata": {
    "ExecuteTime": {
     "end_time": "2025-01-21T19:34:58.179813Z",
     "start_time": "2025-01-21T19:34:57.136787Z"
    }
   },
   "cell_type": "code",
   "source": [
    "svm_model = SVC(kernel='linear', C=1)\n",
    "svm_model.fit(x_train_cv, y_train)\n",
    "y_pred_svm = svm_model.predict(x_test_cv)"
   ],
   "id": "9e101b9ee150c4ae",
   "outputs": [],
   "execution_count": null
  },
  {
   "metadata": {
    "ExecuteTime": {
     "end_time": "2025-01-21T19:39:33.599442Z",
     "start_time": "2025-01-21T19:39:33.580591Z"
    }
   },
   "cell_type": "code",
   "source": [
    "# Model evaluation\n",
    "cm = confusion_matrix(y_test, y_pred_svm)\n",
    "true_neg, false_pos = cm[0, 0], cm[0, 1]\n",
    "false_neg, true_pos = cm[1, 0], cm[1, 1]\n",
    "\n",
    "accuracy = round((true_pos + true_neg) / (true_pos + true_neg + false_pos + false_neg), 3)\n",
    "precision = round(true_pos / (true_pos + false_pos), 3)\n",
    "recall = round(true_pos / (true_pos + false_neg), 3)\n",
    "f1 = round(2 * (precision * recall) / (precision + recall), 3)\n",
    "\n",
    "print(f\"Accuracy: {accuracy}\")\n",
    "print(f\"Precision: {precision}\")\n",
    "print(f\"Recall: {recall}\")\n",
    "print(f\"F1 Score: {f1}\")"
   ],
   "id": "fa007da31e7ad2c3",
   "outputs": [
    {
     "name": "stdout",
     "output_type": "stream",
     "text": [
      "Accuracy: 0.785\n",
      "Precision: 0.858\n",
      "Recall: 0.818\n",
      "F1 Score: 0.838\n"
     ]
    }
   ],
   "execution_count": 50
  },
  {
   "metadata": {},
   "cell_type": "markdown",
   "source": "## K-Nearest Neighbors (KNN)",
   "id": "ec0667d37e78cc32"
  },
  {
   "metadata": {
    "ExecuteTime": {
     "end_time": "2025-01-21T19:40:19.834432Z",
     "start_time": "2025-01-21T19:40:19.544799Z"
    }
   },
   "cell_type": "code",
   "source": [
    "knn_model = KNeighborsClassifier(n_neighbors=5)\n",
    "knn_model.fit(x_train_cv, y_train)\n",
    "y_pred_knn = knn_model.predict(x_test_cv)"
   ],
   "id": "6e498e1f1807dc89",
   "outputs": [],
   "execution_count": 51
  },
  {
   "metadata": {
    "ExecuteTime": {
     "end_time": "2025-01-21T19:40:20.503235Z",
     "start_time": "2025-01-21T19:40:20.489067Z"
    }
   },
   "cell_type": "code",
   "source": [
    "cm = confusion_matrix(y_test, y_pred_svm)\n",
    "true_neg, false_pos = cm[0, 0], cm[0, 1]\n",
    "false_neg, true_pos = cm[1, 0], cm[1, 1]\n",
    "\n",
    "accuracy = round((true_pos + true_neg) / (true_pos + true_neg + false_pos + false_neg), 3)\n",
    "precision = round(true_pos / (true_pos + false_pos), 3)\n",
    "recall = round(true_pos / (true_pos + false_neg), 3)\n",
    "f1 = round(2 * (precision * recall) / (precision + recall), 3)\n",
    "\n",
    "print(f\"Accuracy: {accuracy}\")\n",
    "print(f\"Precision: {precision}\")\n",
    "print(f\"Recall: {recall}\")\n",
    "print(f\"F1 Score: {f1}\")"
   ],
   "id": "62f187c7ee5bc49e",
   "outputs": [
    {
     "name": "stdout",
     "output_type": "stream",
     "text": [
      "Accuracy: 0.785\n",
      "Precision: 0.858\n",
      "Recall: 0.818\n",
      "F1 Score: 0.838\n"
     ]
    }
   ],
   "execution_count": 52
  },
  {
   "metadata": {},
   "cell_type": "markdown",
   "source": [
    "# Summary\n",
    "\n",
    "The goal of this project was to create a model for classifying agreement contents into two categories: abusive clauses and correct contractual statements, by:\n",
    "\n",
    "• Data Preparation:\n",
    "\n",
    "Data was retrieved from a dataset available in the datasets library.\n",
    "Initial preprocessing included the removal of digits, capital letters, punctuation marks, and stop words.\n",
    "\n",
    "• Text Processing:\n",
    "\n",
    "Different approaches to vectorization were used: CountVectorizer and TfidfVectorizer, with Polish stop words taken into account.\n",
    "\n",
    "• Model Training:\n",
    "\n",
    "A few classification models were trained and included in report. All of them were tested on the test dataset."
   ],
   "id": "aae8b882873db462"
  },
  {
   "metadata": {},
   "cell_type": "markdown",
   "source": [
    "\n",
    "Model performance was evaluated using metrics such as accuracy, precision, recall, and F1-score, with results displayed in a confusion matrix. The results of the models' evaluations and classifications were presented in visualizations, including confusion matrices.\n",
    "\n",
    "The maximum F1 score that was achieved was 0.852 for Linear Regression model, both for CountVectorizer and TfidfVectorizer. All other models had a worse F1 score.\n",
    "\n",
    "A difficulty encountered in the project was the lack of libraries for natural language processing in Polish, which made lemmetization and stemming impossible or very time-consuming.\n"
   ],
   "id": "46cc028162aae3e9"
  },
  {
   "metadata": {},
   "cell_type": "code",
   "outputs": [],
   "execution_count": null,
   "source": "",
   "id": "4f871554e5210675"
  }
 ],
 "metadata": {
  "kernelspec": {
   "display_name": "Python 3",
   "language": "python",
   "name": "python3"
  },
  "language_info": {
   "codemirror_mode": {
    "name": "ipython",
    "version": 2
   },
   "file_extension": ".py",
   "mimetype": "text/x-python",
   "name": "python",
   "nbconvert_exporter": "python",
   "pygments_lexer": "ipython2",
   "version": "2.7.6"
  }
 },
 "nbformat": 4,
 "nbformat_minor": 5
}
